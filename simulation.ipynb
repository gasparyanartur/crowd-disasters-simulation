{
 "cells": [
  {
   "cell_type": "markdown",
   "id": "d3125476",
   "metadata": {},
   "source": [
    "# FFR120 Simulation of Complex Systems - Crowd Disasters\n",
    "**Group** - Team Butterflies\n",
    "\n",
    "**Members**:\n",
    "- Artur ..\n",
    "- Maria\n",
    "- Nina\n",
    "- Ruiqi\n",
    "- Rundong .,"
   ]
  },
  {
   "cell_type": "code",
   "execution_count": 23,
   "id": "cce47a5f",
   "metadata": {},
   "outputs": [],
   "source": [
    "from dataclasses import dataclass\n",
    "\n",
    "\n",
    "@dataclass(init=True)\n",
    "class State:\n",
    "    positions: np.ndarray\n",
    "    velocities: np.ndarray\n",
    "        \n",
    "    \n",
    "@dataclass(init=True)\n",
    "class SimConstants:\n",
    "    time_inc: float = 0.01\n",
    "    n_individuals: int = 100\n",
    "    individual_radius: float = 1\n",
    "    collision_rebound: float = 10\n",
    "    mass: float = 10\n",
    "    max_pos: tuple[int, int] = 50, 50\n",
    "    n_time_steps: int = 10\n",
    "        \n",
    "        \n",
    "@dataclass(init=True)\n",
    "class AnimationSettings:\n",
    "    display_size: tuple[int, int] = 12, 12\n",
    "    bg_color: str = \"#C336C9\"\n",
    "    individual_color: str = \"#000000\"\n",
    "    framerate: int = 20\n"
   ]
  },
  {
   "cell_type": "markdown",
   "id": "e133abbe",
   "metadata": {},
   "source": [
    "## Simulation\n"
   ]
  },
  {
   "cell_type": "code",
   "execution_count": 32,
   "id": "fa1c8fe9",
   "metadata": {},
   "outputs": [],
   "source": [
    "\"\"\"Functionality related to executing the simulation and generating a history.\"\"\"\n",
    "import numpy as np\n",
    "\n",
    "def run_simulation(seed: int = None) -> list[State]:\n",
    "    \"\"\"Run the simulation step by step and generate a history.\n",
    "\n",
    "    Args:\n",
    "        n_time_steps: Number of time steps to run the simulation.\n",
    "        seed: Gives the random number generator a reproducable result.\n",
    "\n",
    "    Returns:\n",
    "        The state for each time step.\n",
    "    \"\"\"\n",
    "    sim_const = SimConstants\n",
    "    \n",
    "    np.random.seed(seed)\n",
    "\n",
    "    max_pos = np.array(sim_const.max_pos)\n",
    "    zero_vectors = np.zeros(shape=(sim_const.n_individuals, 2))\n",
    "    positions = np.random.rand(sim_const.n_individuals, 2)\n",
    "    positions *= max_pos\n",
    "    velocities = np.zeros(shape=(sim_const.n_individuals, 2))\n",
    "\n",
    "    state = State(positions=positions, velocities=velocities)\n",
    "    history = [state]\n",
    "\n",
    "    for time_step in range(sim_const.n_time_steps):\n",
    "        positions = state.positions + state.velocities*sim_const.time_inc\n",
    "        forces = zero_vectors.copy()\n",
    "\n",
    "        # TODO: Fix logic\n",
    "        for individual in range(sim_const.n_individuals):\n",
    "\n",
    "            # Compute the displacement between this individual and all others, |p_i - p_j|.\n",
    "            displacements = positions - positions[individual, :]\n",
    "\n",
    "            # The distance to each individual is the norm of each displacement |p_i - p_j|.\n",
    "            distances = np.linalg.norm(displacements, axis=1)\n",
    "\n",
    "            # Find all the collisions that occur, which is defined as the instances\n",
    "            # where the distances are within 2 radiuses, since this means that each\n",
    "            # perimeter is just barely touching.\n",
    "            # Exclude the instances where the distance is 0, since this means that\n",
    "            # the individual is being compared to itself (or something has gone terribly wrong):\n",
    "            collisions = (\n",
    "                (distances < 2*sim_const.individual_radius) &\n",
    "                (distances > 0)\n",
    "            )\n",
    "\n",
    "            forces[collisions] += (\n",
    "                sim_const.collision_rebound / displacements[collisions]\n",
    "            )\n",
    "\n",
    "        velocities = (\n",
    "            state.velocities +\n",
    "            forces * (sim_const.time_inc / sim_const.mass)\n",
    "        )\n",
    "\n",
    "        state = State(positions=positions, velocities=velocities)\n",
    "        history.append(state)\n",
    "\n",
    "    return history\n"
   ]
  },
  {
   "cell_type": "code",
   "execution_count": 25,
   "id": "70d17ae1",
   "metadata": {},
   "outputs": [],
   "source": [
    "history_temp = run_simulation()\n"
   ]
  },
  {
   "cell_type": "markdown",
   "id": "e958d6fc",
   "metadata": {},
   "source": [
    "## Animation"
   ]
  },
  {
   "cell_type": "code",
   "execution_count": 114,
   "id": "984d6afa",
   "metadata": {},
   "outputs": [],
   "source": [
    "import matplotlib.pyplot as plt\n",
    "import matplotlib.animation as anim\n",
    "\n",
    "\n",
    "def get_time_step(i_frame: int, frame_rate: int, time_inc: float) -> int:\n",
    "    \"\"\"Get the time step corresponding to actual time passed of simulation.\n",
    "\n",
    "    Example:\n",
    "        50 fps -> 0.02s per frame\n",
    "        0.01 time_inc -> 2 time steps per frame\n",
    "        3 frames -> 6 time_steps\n",
    "\n",
    "    Args:\n",
    "        i_frame: The frame currently being rendered:\n",
    "        frame_rate: Number of frames rendered per second.\n",
    "        time_inc: The time passed between time steps.\n",
    "    \"\"\"\n",
    "    return int((i_frame / frame_rate) // time_inc)\n",
    "\n",
    "\n",
    "def render_state(i, history, screen) -> None:\n",
    "    #pos_to_coord = np.array(RenderSettings.display_size) / sim_constants.max_pos\n",
    "    #radius = sim_constants.individual_radius*pos_to_coord[0]    # TODO: Make this work for rectangular\n",
    "\n",
    "    #for i in range(sim_constants.n_individuals):\n",
    "    #    coord = state.positions[i, :] * pos_to_coord\n",
    "    #    pg.draw.circle(screen, color=render_state.individual_color, center=coord, radius=radius)\n",
    "    \n",
    "    state = history[i]\n",
    "    screen.set_data(state.positions[:, 0], state.positions[:, 1])\n",
    "    #screen.set_data([1, 10], [1, 10])\n",
    "\n",
    "    \n",
    "    #if i_frame == 0:\n",
    "    #    raise ValueError(\"IOSJF\")\n",
    "    \n",
    "    \n",
    "    return screen,\n",
    "\n",
    "\n",
    "def render_simulation(history: list[State]) -> None:\n",
    "    \"\"\"Given a finished simulation, run over each frame and simulate it in real-time.\n",
    "\n",
    "    Args:\n",
    "        history: The states of each time step.\n",
    "        rendering_state. The settings of the rendering.\n",
    "        sim_constants: The settings of the simulation.\n",
    "    \"\"\"\n",
    "    fig = plt.figure()\n",
    "    ax = fig.gca()\n",
    "    screen, = ax.plot([10], [10], 'bo', ms=6)\n",
    "    ax.set_xlim(-100, 100)\n",
    "    ax.set_ylim(-100, 100)\n",
    "    animation = anim.FuncAnimation(fig, render_state, len(history), fargs=(history, screen), blit=True, interval=1)\n",
    "    plt.plot()\n",
    "    return animation\n",
    "    \n"
   ]
  },
  {
   "cell_type": "code",
   "execution_count": 115,
   "id": "03a3eee1",
   "metadata": {},
   "outputs": [
    {
     "data": {
      "text/plain": [
       "<matplotlib.animation.FuncAnimation at 0x267ec96ee20>"
      ]
     },
     "execution_count": 115,
     "metadata": {},
     "output_type": "execute_result"
    },
    {
     "data": {
      "image/png": "[encoded data removed]",
      "text/plain": [
       "<Figure size 640x480 with 1 Axes>"
      ]
     },
     "metadata": {},
     "output_type": "display_data"
    }
   ],
   "source": [
    "render_simulation(history_temp)\n"
   ]
  },
  {
   "cell_type": "code",
   "execution_count": null,
   "id": "6733ef81",
   "metadata": {},
   "outputs": [],
   "source": []
  }
 ],
 "metadata": {
  "kernelspec": {
   "display_name": "Python 3 (ipykernel)",
   "language": "python",
   "name": "python3"
  },
  "language_info": {
   "codemirror_mode": {
    "name": "ipython",
    "version": 3
   },
   "file_extension": ".py",
   "mimetype": "text/x-python",
   "name": "python",
   "nbconvert_exporter": "python",
   "pygments_lexer": "ipython3",
   "version": "3.9.13"
  }
 },
 "nbformat": 4,
 "nbformat_minor": 5
}
