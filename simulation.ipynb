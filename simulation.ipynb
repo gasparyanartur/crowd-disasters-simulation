{
 "cells": [
  {
   "cell_type": "markdown",
   "id": "53e82ca0",
   "metadata": {},
   "source": [
    "# FFR120 Simulation of Complex Systems - Crowd Disasters\n",
    "**Group** - Team Butterflies\n",
    "\n",
    "**Members**:\n",
    "- Artur ..\n",
    "- Maria\n",
    "- Nina\n",
    "- Ruiqi\n",
    "- Rundong .,"
   ]
  },
  {
   "cell_type": "code",
   "execution_count": 17,
   "id": "bfb66d51",
   "metadata": {},
   "outputs": [],
   "source": [
    "from dataclasses import dataclass\n",
    "import numpy as np\n",
    "\n",
    "\n",
    "@dataclass(init=True)\n",
    "class State:\n",
    "    positions: np.ndarray\n",
    "    velocities: np.ndarray\n",
    "        \n",
    "    \n",
    "@dataclass(init=True)\n",
    "class SimConstants:\n",
    "    time_inc = 0.01\n",
    "    n_individuals = 100\n",
    "    individual_radius = 1\n",
    "    collision_rebound = 10\n",
    "    mass = 10\n",
    "    max_pos = 50, 50\n",
    "    n_time_steps = 100\n",
    "        \n",
    "        \n",
    "@dataclass(init=True)\n",
    "class AnimationSettings:\n",
    "    display_size = 8, 8   # Size of display in inches\n",
    "    dpi = 100    # Pixels per inch\n",
    "    bg_color = \"#C336C9\"\n",
    "    individual_color = \"#000000\"\n",
    "    framerate = 20\n",
    "    \n",
    "    def get_marker_size():\n",
    "        return AnimationSettings.dpi*np.mean(AnimationSettings.display_size)/np.mean(SimConstants.max_pos)"
   ]
  },
  {
   "cell_type": "markdown",
   "id": "7dd5eb5a",
   "metadata": {},
   "source": [
    "## Simulation\n"
   ]
  },
  {
   "cell_type": "code",
   "execution_count": 18,
   "id": "9e162728",
   "metadata": {},
   "outputs": [],
   "source": [
    "\"\"\"Functionality related to executing the simulation and generating a history.\"\"\"\n",
    "import numpy as np\n",
    "\n",
    "def run_simulation(seed: int = None) -> list[State]:\n",
    "    \"\"\"Run the simulation step by step and generate a history.\n",
    "\n",
    "    Args:\n",
    "        n_time_steps: Number of time steps to run the simulation.\n",
    "        seed: Gives the random number generator a reproducable result.\n",
    "\n",
    "    Returns:\n",
    "        The state for each time step.\n",
    "    \"\"\"\n",
    "    sim_const = SimConstants\n",
    "    \n",
    "    np.random.seed(seed)\n",
    "\n",
    "    max_pos = np.array(sim_const.max_pos)\n",
    "    zero_vectors = np.zeros(shape=(sim_const.n_individuals, 2))\n",
    "    positions = np.random.rand(sim_const.n_individuals, 2)\n",
    "    positions *= max_pos\n",
    "    velocities = np.zeros(shape=(sim_const.n_individuals, 2))\n",
    "\n",
    "    state = State(positions=positions, velocities=velocities)\n",
    "    history = [state]\n",
    "\n",
    "    for time_step in range(sim_const.n_time_steps):\n",
    "        positions = state.positions + state.velocities*sim_const.time_inc\n",
    "        forces = zero_vectors.copy()\n",
    "\n",
    "        # TODO: Fix logic\n",
    "        for individual in range(sim_const.n_individuals):\n",
    "\n",
    "            # Compute the displacement between this individual and all others, |p_i - p_j|.\n",
    "            displacements = positions - positions[individual, :]\n",
    "\n",
    "            # The distance to each individual is the norm of each displacement |p_i - p_j|.\n",
    "            distances = np.linalg.norm(displacements, axis=1)\n",
    "\n",
    "            # Find all the collisions that occur, which is defined as the instances\n",
    "            # where the distances are within 2 radiuses, since this means that each\n",
    "            # perimeter is just barely touching.\n",
    "            # Exclude the instances where the distance is 0, since this means that\n",
    "            # the individual is being compared to itself (or something has gone terribly wrong):\n",
    "            collisions = (\n",
    "                (distances < 2*sim_const.individual_radius) &\n",
    "                (distances > 0)\n",
    "            )\n",
    "\n",
    "            forces[collisions] += (\n",
    "                sim_const.collision_rebound / displacements[collisions]\n",
    "            )\n",
    "\n",
    "        velocities = (\n",
    "            state.velocities +\n",
    "            forces * (sim_const.time_inc / sim_const.mass)\n",
    "        )\n",
    "\n",
    "        state = State(positions=positions, velocities=velocities)\n",
    "        history.append(state)\n",
    "\n",
    "    return history\n"
   ]
  },
  {
   "cell_type": "code",
   "execution_count": 19,
   "id": "793d31fb",
   "metadata": {},
   "outputs": [],
   "source": [
    "history_temp = run_simulation()\n"
   ]
  },
  {
   "cell_type": "markdown",
   "id": "ebad0b13",
   "metadata": {},
   "source": [
    "## Animation"
   ]
  },
  {
   "cell_type": "code",
   "execution_count": 90,
   "id": "06efe1ad",
   "metadata": {},
   "outputs": [],
   "source": [
    "import matplotlib.pyplot as plt\n",
    "import matplotlib.animation as anim\n",
    "\n",
    "\n",
    "def get_time_step(i_frame: int, frame_rate: int, time_inc: float) -> int:\n",
    "    \"\"\"Get the time step corresponding to actual time passed of simulation.\n",
    "\n",
    "    Example:\n",
    "        50 fps -> 0.02s per frame\n",
    "        0.01 time_inc -> 2 time steps per frame\n",
    "        3 frames -> 6 time_steps\n",
    "\n",
    "    Args:\n",
    "        i_frame: The frame currently being rendered:\n",
    "        frame_rate: Number of frames rendered per second.\n",
    "        time_inc: The time passed between time steps.\n",
    "    \"\"\"\n",
    "    return int((i_frame / frame_rate) // time_inc)\n",
    "\n",
    "\n",
    "def render_state(i, history, screen, ball) -> None:\n",
    "    state = history[i]\n",
    "    screen.set_data(state.positions[:, 0], state.positions[:, 1])\n",
    "    ball.set_data([30*i], [i])\n",
    "    \n",
    "    if i == 1:\n",
    "        raise ValueError(\"AFIOJS\")\n",
    "    \n",
    "    return screen, ball\n",
    "\n",
    "def render_simulation(history: list[State]) -> None:\n",
    "    \"\"\"Given a finished simulation, run over each frame and simulate it in real-time.\n",
    "\n",
    "    Args:\n",
    "        history: The states of each time step.\n",
    "        rendering_state. The settings of the rendering.\n",
    "        sim_constants: The settings of the simulation.\n",
    "    \"\"\"\n",
    "    fig = plt.figure(\n",
    "        figsize=AnimationSettings.display_size,\n",
    "        dpi=AnimationSettings.dpi\n",
    "    )\n",
    "    ax = fig.gca()\n",
    "    screen, = ax.plot([], [], 'o', ms=AnimationSettings.get_marker_size(), animated=True)\n",
    "    ball, = ax.plot([0], [0], 'ro', ms=AnimationSettings.get_marker_size(), animated=True)\n",
    "    \n",
    "    ax.set_xlim(0, SimConstants.max_pos[1])\n",
    "    ax.set_ylim(0, SimConstants.max_pos[0])\n",
    "        \n",
    "    animation = anim.FuncAnimation(\n",
    "        fig=fig, func=render_state, frames=len(history),\n",
    "        fargs=(history, screen, ball),\n",
    "        blit=True, interval=200\n",
    "    )\n",
    "    return animation\n",
    "    \n"
   ]
  },
  {
   "cell_type": "code",
   "execution_count": 91,
   "id": "8e1a91ba",
   "metadata": {},
   "outputs": [
    {
     "data": {
      "image/png": "[encoded data removed]",
      "text/plain": [
       "<Figure size 800x800 with 1 Axes>"
      ]
     },
     "metadata": {},
     "output_type": "display_data"
    }
   ],
   "source": [
    "a = render_simulation(history_temp)\n",
    "\n",
    "\n"
   ]
  },
  {
   "cell_type": "code",
   "execution_count": null,
   "id": "daf1999b",
   "metadata": {},
   "outputs": [],
   "source": []
  }
 ],
 "metadata": {
  "kernelspec": {
   "display_name": "Python 3 (ipykernel)",
   "language": "python",
   "name": "python3"
  },
  "language_info": {
   "codemirror_mode": {
    "name": "ipython",
    "version": 3
   },
   "file_extension": ".py",
   "mimetype": "text/x-python",
   "name": "python",
   "nbconvert_exporter": "python",
   "pygments_lexer": "ipython3",
   "version": "3.9.13"
  }
 },
 "nbformat": 4,
 "nbformat_minor": 5
}
