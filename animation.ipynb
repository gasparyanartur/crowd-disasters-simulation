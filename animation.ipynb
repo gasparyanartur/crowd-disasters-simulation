{
 "cells": [
  {
   "cell_type": "markdown",
   "id": "c3ba81fa",
   "metadata": {},
   "source": [
    "# FFR120 Simulation of Complex Systems - Crowd Disasters\n",
    "**Group** - Team Butterflies\n",
    "\n",
    "**Members**:\n",
    "- Artur ..\n",
    "- Maria\n",
    "- Nina\n",
    "- Ruiqi\n",
    "- Rundong .,"
   ]
  },
  {
   "cell_type": "markdown",
   "id": "f84e68b6",
   "metadata": {},
   "source": [
    "## Animation"
   ]
  },
  {
   "cell_type": "code",
   "execution_count": null,
   "id": "3dc84ad2",
   "metadata": {},
   "outputs": [],
   "source": []
  }
 ],
 "metadata": {
  "kernelspec": {
   "display_name": "Python 3 (ipykernel)",
   "language": "python",
   "name": "python3"
  },
  "language_info": {
   "codemirror_mode": {
    "name": "ipython",
    "version": 3
   },
   "file_extension": ".py",
   "mimetype": "text/x-python",
   "name": "python",
   "nbconvert_exporter": "python",
   "pygments_lexer": "ipython3",
   "version": "3.9.13"
  }
 },
 "nbformat": 4,
 "nbformat_minor": 5
}
